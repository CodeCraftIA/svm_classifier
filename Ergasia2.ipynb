{
  "nbformat": 4,
  "nbformat_minor": 0,
  "metadata": {
    "colab": {
      "provenance": [],
      "authorship_tag": "ABX9TyM8lKugDQPJq+H0VbX6CI5w",
      "include_colab_link": true
    },
    "kernelspec": {
      "name": "python3",
      "display_name": "Python 3"
    },
    "language_info": {
      "name": "python"
    }
  },
  "cells": [
    {
      "cell_type": "markdown",
      "metadata": {
        "id": "view-in-github",
        "colab_type": "text"
      },
      "source": [
        "<a href=\"https://colab.research.google.com/github/CodeCraftIA/svm_classifier/blob/main/Ergasia2.ipynb\" target=\"_parent\"><img src=\"https://colab.research.google.com/assets/colab-badge.svg\" alt=\"Open In Colab\"/></a>"
      ]
    },
    {
      "cell_type": "markdown",
      "source": [
        "Αρχικά κατεβάζω την mnist έπειτα χωρίζω το dataset σε άρτιους και περιττούς αλλάζοντας την τιμή y (-1 η μία ομάδα και +1 η άλλη , απαιτείται για τον αλγόριθμο)"
      ],
      "metadata": {
        "id": "yWBAxsSI2pFK"
      }
    },
    {
      "cell_type": "code",
      "source": [
        "from sklearn.metrics import accuracy_score\n",
        "import numpy as np\n",
        "import pandas as pd\n",
        "from keras.datasets import mnist\n",
        "from sklearn.svm import SVC\n",
        "\n",
        "\n",
        "# load dataset\n",
        "(x_train, y_train2),(x_test, y_test2) = mnist.load_data()\n",
        "y_train = np.zeros(y_train2.shape, np.int16)\n",
        "y_test = np.zeros(y_test2.shape, np.int16)\n",
        "for i in range(60000):             #χωρίζω το dataset σε 2 ομάδες (άρτιοι και περιττοί)\n",
        "  y_train[i]=2*(y_train2[i]%2)-1   # η μία ομάδα θα έχει τιμή στο y 1 και η άλλη -1\n",
        "\n",
        "for i in range(10000):\n",
        "  y_test[i]=2*(y_test2[i]%2)-1\n",
        "\n",
        "#x_train=x_train[0:1000]\n",
        "#y_train=y_train[0:1000]\n",
        "\n",
        "# resize and normalize\n",
        "input_size=784 #28*28\n",
        "x_train = np.reshape(x_train, [-1, input_size])\n",
        "x_train = x_train.astype('float32') / 255\n",
        "x_test = np.reshape(x_test, [-1, input_size])\n",
        "x_test = x_test.astype('float32') / 255\n"
      ],
      "metadata": {
        "id": "V7MViNkjU9dN",
        "colab": {
          "base_uri": "https://localhost:8080/"
        },
        "outputId": "a3548110-775a-4505-bd2d-16fc4b94bbd3"
      },
      "execution_count": null,
      "outputs": [
        {
          "output_type": "stream",
          "name": "stdout",
          "text": [
            "Downloading data from https://storage.googleapis.com/tensorflow/tf-keras-datasets/mnist.npz\n",
            "11490434/11490434 [==============================] - 0s 0us/step\n"
          ]
        }
      ]
    },
    {
      "cell_type": "markdown",
      "source": [
        "**From Scratch αλγόριθμος για SVM**\n",
        "\n",
        "\n",
        "γνωρίζουμε τίς σχέσεις :\n",
        "\n",
        "w.xi - b >= 1  , για yi=1\n",
        "\n",
        "w.xi - b <= -1  , για yi=-1\n",
        "\n",
        "απο τις οποίες έχουμε την εξής συνθήκη :  **yi*(w.xi - b) >=1**\n",
        "\n",
        "Επίσης έχουμε έναν regularizer λ*||w||^2 +1/n * (άθροισμα απο 1 έως n του max(0,1 - yi*(w.xi - b) ) , το δεύτερο μέρος αποτελεί το hinge loss\n",
        "\n",
        "Άρα όταν ισχύει η συνθήκη μας ΄τοτε το cost θα είναι λ*||w||^2 , αλλιώς θα είναι λ*||w||^2 +1 - yi*(w.xi - b)\n",
        "\n",
        "οι gradients θα είναι αντίστοιχα : 2*λ*w  και  2*λ*w - yi.xij\n",
        "\n",
        "\n",
        "\n"
      ],
      "metadata": {
        "id": "CBs-fJg16dHq"
      }
    },
    {
      "cell_type": "code",
      "source": [
        "import numpy as np\n",
        "import matplotlib.pyplot as plt\n",
        "from tqdm import tqdm\n",
        "\n",
        "class SVM:\n",
        "\n",
        "    def __init__(self, learning_rate=0.001, lambda_param=0.01, iterations=1000):\n",
        "        self.learning_rate = learning_rate\n",
        "        self.lambda_param = lambda_param\n",
        "        self.iterations = iterations\n",
        "        self.w = None\n",
        "        self.b = None\n",
        "\n",
        "    def fit(self, X, y):\n",
        "        n_samples, n_features = X.shape\n",
        "\n",
        "        # αρχικοποιώ τα βάρη με τυχαίες τιμές και το b=0\n",
        "        self.w = np.random.randn(n_features)*0.01\n",
        "        self.b = 0\n",
        "\n",
        "        for _ in tqdm(range(self.iterations)):\n",
        "            for idx, x_i in enumerate(X):\n",
        "                condition = y[idx] * (np.dot(x_i, self.w) - self.b) >= 1\n",
        "                if condition:\n",
        "                    self.w -= self.learning_rate * (2 * self.lambda_param * self.w)\n",
        "                else:\n",
        "                    self.w -= self.learning_rate * (2 * self.lambda_param * self.w - np.dot(x_i, y[idx]))\n",
        "                    self.b -= self.learning_rate * y[idx]\n",
        "\n",
        "\n",
        "\n",
        "    def predict(self, X):\n",
        "        pred = np.dot(X, self.w) - self.b\n",
        "        return np.sign(pred)\n",
        "\n"
      ],
      "metadata": {
        "id": "1bZlaekIXHSu"
      },
      "execution_count": null,
      "outputs": []
    },
    {
      "cell_type": "code",
      "source": [
        "svm=SVM()\n",
        "svm.fit(x_train,y_train)\n",
        "prediction=svm.predict(x_test)\n",
        "print(accuracy_score(y_test,prediction))"
      ],
      "metadata": {
        "colab": {
          "base_uri": "https://localhost:8080/"
        },
        "id": "8_u6ehZYYmCy",
        "outputId": "135e32bc-fb3a-4e23-cdd5-aba7e2094f07"
      },
      "execution_count": null,
      "outputs": [
        {
          "output_type": "stream",
          "name": "stderr",
          "text": [
            "100%|██████████| 1000/1000 [16:18<00:00,  1.02it/s]"
          ]
        },
        {
          "output_type": "stream",
          "name": "stdout",
          "text": [
            "0.8713\n"
          ]
        },
        {
          "output_type": "stream",
          "name": "stderr",
          "text": [
            "\n"
          ]
        }
      ]
    },
    {
      "cell_type": "code",
      "source": [
        "svm=SVM()\n",
        "svm.fit(x_train,y_train)\n",
        "prediction=svm.predict(x_train)\n",
        "print(accuracy_score(y_train,prediction))"
      ],
      "metadata": {
        "colab": {
          "base_uri": "https://localhost:8080/"
        },
        "id": "6JiK_n2aHt33",
        "outputId": "13deaddd-e07b-4945-df11-23c72b6aba04"
      },
      "execution_count": null,
      "outputs": [
        {
          "output_type": "stream",
          "name": "stderr",
          "text": [
            "100%|██████████| 1000/1000 [17:07<00:00,  1.03s/it]"
          ]
        },
        {
          "output_type": "stream",
          "name": "stdout",
          "text": [
            "0.8757666666666667\n"
          ]
        },
        {
          "output_type": "stream",
          "name": "stderr",
          "text": [
            "\n"
          ]
        }
      ]
    },
    {
      "cell_type": "markdown",
      "source": [
        "accuracy **87.13%** ο απλός SVM , χωρίς kernel .\n",
        "\n",
        "**ΣΗΜΕΙΩΣΗ**\n",
        "\n",
        "Με λιγότερα δεδομένα που το είχα τρέξει στην αρχή (περίπου 10000) είχε καλύτερη απόδοση , περίπου 89,5% . Σε αυτό ίσως ευθύνεται το γεγόνος ότι όσο λιγότερα είναι τα δεδομένα τόσο λιγότερο απλομένα στον χώρο είναι επομένως ο απλός SVM μπορεί και βρίσκει καλή λύση , ενώ όταν τα δεδομένα αρχίζουν και απλώνονται στον χώρο τότε ο SVM δεν μπορεί να βρεί κατάλληλη ευθεία έτσι ώστε να χωρίζει το σύνολο."
      ],
      "metadata": {
        "id": "gEgUjS8-30sf"
      }
    },
    {
      "cell_type": "markdown",
      "source": [
        "**SK-learn**"
      ],
      "metadata": {
        "id": "IUfzPgeM8IgL"
      }
    },
    {
      "cell_type": "markdown",
      "source": [
        "Αρχικά δοκίμασα με linear kernel στον έτοιμο SVM της sklearn"
      ],
      "metadata": {
        "id": "k_LsYvtK50Zy"
      }
    },
    {
      "cell_type": "code",
      "source": [
        "from sklearn.svm import SVC\n",
        "# Building a Support Vector Machine on train data\n",
        "svc_model = SVC(C= .1, kernel='linear', gamma= 1)\n",
        "svc_model.fit(x_train, y_train)\n",
        "# check the accuracy on the training set\n",
        "print(svc_model.score(x_train, y_train))\n",
        "print(svc_model.score(x_test, y_test))"
      ],
      "metadata": {
        "colab": {
          "base_uri": "https://localhost:8080/"
        },
        "id": "TC1hFNZ_8HQm",
        "outputId": "00d089d9-6738-49be-b64c-badd5b15dfb5"
      },
      "execution_count": null,
      "outputs": [
        {
          "output_type": "stream",
          "name": "stdout",
          "text": [
            "0.9062333333333333\n",
            "0.9038\n"
          ]
        }
      ]
    },
    {
      "cell_type": "markdown",
      "source": [
        "90.38% , όχι και τεράστια διαφορά με το δικό μου , ίσως να μπορούσα να πάρω και καλύτερα αποτελέσματα χρησιμοποιώντας καλύτερες αρχικοποιήσεις , όμώς παρατήρησα και σε αυτήν την περίπτωση το ίδιο με πρίν (δηλαδή ότι με λιγότερα δεδομένα έχει καλύτερη απόδοση , με αυτό το SVM με 10000 δεδομένα έφτασε περίπου 91,5%)\n",
        "\n",
        "**ΣΥΜΠΕΡΑΣΜΑ**\n",
        "\n",
        "Ίσως να μην λειτουργεί βέλτιστα στο συγκεκριμένο πρόβλημα η γραμμικότητα"
      ],
      "metadata": {
        "id": "DMAThrF15_r5"
      }
    },
    {
      "cell_type": "markdown",
      "source": [
        "Έπειτα δοκίμασα τον πολύωνυμικό kernel στον έτοιμο SVM"
      ],
      "metadata": {
        "id": "1yltY6cy7EhJ"
      }
    },
    {
      "cell_type": "code",
      "source": [
        "# Building a Support Vector Machine on train data\n",
        "svc_model = SVC(C= .1, kernel='poly', gamma= 1)\n",
        "svc_model.fit(x_train, y_train)\n",
        "# check the accuracy on the training set\n",
        "print(svc_model.score(x_train, y_train))\n",
        "print(svc_model.score(x_test, y_test))"
      ],
      "metadata": {
        "colab": {
          "base_uri": "https://localhost:8080/"
        },
        "id": "tRIYcAZn-D8-",
        "outputId": "6b30bda8-1600-4885-d8ea-d0d1adc688e8"
      },
      "execution_count": null,
      "outputs": [
        {
          "output_type": "stream",
          "name": "stdout",
          "text": [
            "1.0\n",
            "0.9873\n"
          ]
        }
      ]
    },
    {
      "cell_type": "markdown",
      "source": [
        "Πολύ απλά με C=0.1 και gamma = 1 , ο SVM έφτασε σε accuracy **98.73%**"
      ],
      "metadata": {
        "id": "-AibgPY87PwI"
      }
    },
    {
      "cell_type": "markdown",
      "source": [
        "Έπειτα δοκιμάζω τον rbf kernel"
      ],
      "metadata": {
        "id": "AP5XkSFv7oJO"
      }
    },
    {
      "cell_type": "code",
      "source": [
        "# Building a Support Vector Machine on train data\n",
        "svc_model = SVC(C= .1, kernel='rbf', gamma= 1)\n",
        "svc_model.fit(x_train, y_train)\n",
        "# check the accuracy on the training set\n",
        "print(svc_model.score(x_train, y_train))\n",
        "print(svc_model.score(x_test, y_test))"
      ],
      "metadata": {
        "colab": {
          "base_uri": "https://localhost:8080/"
        },
        "id": "qAuRuZ_v-HG6",
        "outputId": "9f4802ae-70fb-483f-edac-15c3b07c29d7"
      },
      "execution_count": null,
      "outputs": [
        {
          "output_type": "stream",
          "name": "stdout",
          "text": [
            "0.5084666666666666\n",
            "0.5074\n"
          ]
        }
      ]
    },
    {
      "cell_type": "markdown",
      "source": [
        "Με τις ίδιες αρχικοποιήσεις με πρίν παρατηρούμε ότι κάτι δεν πάει καλά , μόλις **50,74%**"
      ],
      "metadata": {
        "id": "BJS0qE5b7uOb"
      }
    },
    {
      "cell_type": "markdown",
      "source": [
        "δοκίμασα να αυξήσω και άλλο το gamma και να μειώσω το C"
      ],
      "metadata": {
        "id": "sbBUEJTO78NZ"
      }
    },
    {
      "cell_type": "code",
      "source": [
        "# Building a Support Vector Machine on train data\n",
        "svc_model = SVC(C= 0.05, kernel='rbf', gamma= 2)\n",
        "svc_model.fit(x_train, y_train)\n",
        "# check the accuracy on the training set\n",
        "print(svc_model.score(x_train, y_train))\n",
        "print(svc_model.score(x_test, y_test))"
      ],
      "metadata": {
        "colab": {
          "base_uri": "https://localhost:8080/"
        },
        "id": "PsFovjqd2xJs",
        "outputId": "45f3845d-7820-441d-cee4-4ec4996e9514"
      },
      "execution_count": null,
      "outputs": [
        {
          "output_type": "stream",
          "name": "stdout",
          "text": [
            "0.5084666666666666\n",
            "0.5074\n"
          ]
        }
      ]
    },
    {
      "cell_type": "markdown",
      "source": [
        "αλλά και πάλι τα αποτελέσματα παραμένουν ίδια"
      ],
      "metadata": {
        "id": "h4TZt6v78Fpx"
      }
    },
    {
      "cell_type": "markdown",
      "source": [
        "Επόμένως αποφάσισα να πάρω την αντίθετη κατεύθυνση μήπως αλλάξει κάτι"
      ],
      "metadata": {
        "id": "6t8Eiwzg8KCi"
      }
    },
    {
      "cell_type": "code",
      "source": [
        "# Building a Support Vector Machine on train data\n",
        "svc_model = SVC(C= 0.5, kernel='rbf', gamma= 0.1)\n",
        "svc_model.fit(x_train, y_train)\n",
        "# check the accuracy on the training set\n",
        "print(svc_model.score(x_train, y_train))\n",
        "print(svc_model.score(x_test, y_test))"
      ],
      "metadata": {
        "colab": {
          "base_uri": "https://localhost:8080/"
        },
        "id": "6aDCtQqIIkyX",
        "outputId": "563aea58-c211-469a-faec-4fd5ebba1bf6"
      },
      "execution_count": null,
      "outputs": [
        {
          "output_type": "stream",
          "name": "stdout",
          "text": [
            "0.9985666666666667\n",
            "0.9582\n"
          ]
        }
      ]
    },
    {
      "cell_type": "markdown",
      "source": [
        "Παρατηρούμε πως με μικρότερο gamma (0.1) και μεγαλύτερο C (0.5) , το μοντέλο μας έφτάσε στο **96%**  με overfitting φυσικά , όμως αυτό δείχνει ότι είμαστε στον σωστό δρόμο"
      ],
      "metadata": {
        "id": "srQOJReT8UBo"
      }
    },
    {
      "cell_type": "code",
      "source": [
        "# Building a Support Vector Machine on train data\n",
        "svc_model = SVC(C= 2, kernel='rbf', gamma= 0.01)\n",
        "svc_model.fit(x_train, y_train)\n",
        "# check the accuracy on the training set\n",
        "print(svc_model.score(x_train, y_train))\n",
        "print(svc_model.score(x_test, y_test))"
      ],
      "metadata": {
        "colab": {
          "base_uri": "https://localhost:8080/"
        },
        "id": "kbXIQUsrXftS",
        "outputId": "fa8a8eb6-6770-490f-cd38-9f0bd1653b54"
      },
      "execution_count": null,
      "outputs": [
        {
          "output_type": "stream",
          "name": "stdout",
          "text": [
            "0.9926333333333334\n",
            "0.9872\n"
          ]
        }
      ]
    },
    {
      "cell_type": "markdown",
      "source": [
        "Μάλιστα , φτάσαμε στο **98.72%** με αρκέτα μεγαλύτερο C (=2) και αρκετά μικρότερο gamma (=0.01)"
      ],
      "metadata": {
        "id": "875ZlbRf84Oo"
      }
    },
    {
      "cell_type": "markdown",
      "source": [
        "**Πολυωνυμικός kernel , για να τον χρησιμοποιήσω στο from scratch μοντέλο μου**"
      ],
      "metadata": {
        "id": "w1Y1WtFdEdKj"
      }
    },
    {
      "cell_type": "code",
      "source": [
        "def polynomial_kernel(x, y, degree):\n",
        "    return (np.dot(x, y) + 1) ** degree"
      ],
      "metadata": {
        "id": "ah0VFBBcJszV"
      },
      "execution_count": null,
      "outputs": []
    },
    {
      "cell_type": "markdown",
      "source": [
        "Πειράματα με τον πολύωνυμικό kernel στο from scratch svm"
      ],
      "metadata": {
        "id": "Rhh4qqzOEy5A"
      }
    },
    {
      "cell_type": "markdown",
      "source": [
        "Αρχικά πειραματίζομαι με μικρό δείγμα (1000 στοιχεία)"
      ],
      "metadata": {
        "id": "1zmdVy86E8xk"
      }
    },
    {
      "cell_type": "markdown",
      "source": [
        "πολυωνυμικός kernel 5ου βαθμού"
      ],
      "metadata": {
        "id": "BscolvqHFU-e"
      }
    },
    {
      "cell_type": "code",
      "source": [
        "x_train=x_train[:1000]\n",
        "y_train=y_train[:1000]\n",
        "K = np.zeros((1000, 1000))\n",
        "for i in range(1000):\n",
        "    for j in range(1000):\n",
        "        K[i, j] = polynomial_kernel(x_train[i], x_train[j],5) # η ομοιότητα κάθε δείγματος με κάθε αλλο\n",
        "s=SVM()\n",
        "s.fit(K,y_train)"
      ],
      "metadata": {
        "colab": {
          "base_uri": "https://localhost:8080/"
        },
        "id": "0q3euMZ7Jbi9",
        "outputId": "29f22a47-8b0f-4d43-b2bd-5c7e6700e798"
      },
      "execution_count": null,
      "outputs": [
        {
          "output_type": "stream",
          "name": "stderr",
          "text": [
            "100%|██████████| 1000/1000 [00:12<00:00, 82.76it/s]\n"
          ]
        }
      ]
    },
    {
      "cell_type": "code",
      "source": [
        "test=np.zeros((10000,1000))\n",
        "\n",
        "for i in range(10000):\n",
        "  for j in range(1000):\n",
        "      test[i, j] = polynomial_kernel(x_test[i], x_train[j],5)"
      ],
      "metadata": {
        "id": "Et6wyK8BKeP8"
      },
      "execution_count": null,
      "outputs": []
    },
    {
      "cell_type": "code",
      "source": [
        "y_pred = [s.predict(x) for x in test]\n",
        "print(accuracy_score(y_test,y_pred))\n"
      ],
      "metadata": {
        "colab": {
          "base_uri": "https://localhost:8080/"
        },
        "id": "DicbfhuULw6h",
        "outputId": "156695d5-fad3-4263-9015-e6281cb6f71b"
      },
      "execution_count": null,
      "outputs": [
        {
          "output_type": "stream",
          "name": "stdout",
          "text": [
            "0.9364\n"
          ]
        }
      ]
    },
    {
      "cell_type": "markdown",
      "source": [
        "Με μόλις 1000 στοιχεία στο σύνολο του training , ο svm με kernel πολυωνυμικό 5ου βαθμού δίνει accuracy σε ολόκληρο το test set **93.64%** ενώ με βαθμό 2 και 4 που δοκίμασα προηγουμένως δεν έφτασε ούτε 90%"
      ],
      "metadata": {
        "id": "zwdaR82TFbwt"
      }
    },
    {
      "cell_type": "markdown",
      "source": [
        "Fit σε 20000 dataset με πολυωνυμικό kernel"
      ],
      "metadata": {
        "id": "QugMzzRUG89H"
      }
    },
    {
      "cell_type": "code",
      "source": [
        "K = np.zeros((20000, 20000))\n",
        "for i in range(20000):\n",
        "    for j in range(20000):\n",
        "        K[i, j] = polynomial_kernel(x_train[i], x_train[j],5)\n",
        "svm=SVM()\n",
        "svm.fit(K,y_train)"
      ],
      "metadata": {
        "colab": {
          "base_uri": "https://localhost:8080/"
        },
        "id": "1BQF2efdGWO0",
        "outputId": "9d028b05-c864-4032-8b1e-dd1001b6c019"
      },
      "execution_count": null,
      "outputs": [
        {
          "output_type": "stream",
          "name": "stderr",
          "text": [
            "100%|██████████| 1000/1000 [25:43<00:00,  1.54s/it]\n"
          ]
        }
      ]
    },
    {
      "cell_type": "markdown",
      "source": [
        "50 λεπτά χρειάστηκαν μόνο για να υπολογιστεί ο kernel με 20000 στοιχεία και άλλα 25 λεπτα για να γίνει το fit"
      ],
      "metadata": {
        "id": "seZCo5zZDDyY"
      }
    },
    {
      "cell_type": "code",
      "source": [
        "test=np.zeros((10000,20000))\n",
        "\n",
        "for i in range(10000):\n",
        "  for j in range(20000):\n",
        "      test[i, j] = polynomial_kernel(x_test[i], x_train[j],5)"
      ],
      "metadata": {
        "id": "ccoFZmkMGuc-"
      },
      "execution_count": null,
      "outputs": []
    },
    {
      "cell_type": "markdown",
      "source": [
        "άλλα 25 λεπτά για να υπολογιστεί ο kernel του test set"
      ],
      "metadata": {
        "id": "EmVNPL3PSJ6f"
      }
    },
    {
      "cell_type": "code",
      "source": [
        "y_pred = [svm.predict(x) for x in K]\n",
        "print(accuracy_score(y_train[:20000],y_pred))"
      ],
      "metadata": {
        "colab": {
          "base_uri": "https://localhost:8080/"
        },
        "id": "5nk3cClsS5PW",
        "outputId": "e6c77fb8-3d55-442b-bfe9-82bd02a824db"
      },
      "execution_count": null,
      "outputs": [
        {
          "output_type": "stream",
          "name": "stdout",
          "text": [
            "0.81035\n"
          ]
        }
      ]
    },
    {
      "cell_type": "code",
      "source": [
        "y_pred = [svm.predict(x) for x in test]\n",
        "print(accuracy_score(y_test,y_pred))"
      ],
      "metadata": {
        "colab": {
          "base_uri": "https://localhost:8080/"
        },
        "id": "jGC0pwGvG6wU",
        "outputId": "25f4fc14-b7dc-40a3-bd1b-acc9e94d58c9"
      },
      "execution_count": null,
      "outputs": [
        {
          "output_type": "stream",
          "name": "stdout",
          "text": [
            "0.811\n"
          ]
        }
      ]
    },
    {
      "cell_type": "markdown",
      "source": [
        "Παρατηρούμε ότι το ίδιο πρόβλημα γίνεται και με kernel , περισσότερα δεδομένα εκπαίδευσης είχαν ως αποτέλεσμα χειρότερη ακρίβεια"
      ],
      "metadata": {
        "id": "YNnneCuKTaMv"
      }
    },
    {
      "cell_type": "code",
      "source": [
        "K = np.zeros((10000, 10000))\n",
        "for i in tqdm(range(10000)):\n",
        "    for j in range(10000):\n",
        "        K[i, j] = polynomial_kernel(x_train[i], x_train[j],2)\n",
        "svm=SVM()\n",
        "svm.fit(K,y_train)"
      ],
      "metadata": {
        "colab": {
          "base_uri": "https://localhost:8080/"
        },
        "id": "NacbEi_5zJha",
        "outputId": "4009aaea-289d-4e62-fc39-bd0756019085"
      },
      "execution_count": null,
      "outputs": [
        {
          "output_type": "stream",
          "name": "stderr",
          "text": [
            "100%|██████████| 10000/10000 [13:37<00:00, 12.24it/s]\n",
            "100%|██████████| 1000/1000 [06:01<00:00,  2.76it/s]\n"
          ]
        }
      ]
    },
    {
      "cell_type": "code",
      "source": [
        "test=np.zeros((10000,10000))\n",
        "\n",
        "for i in range(10000):\n",
        "  for j in range(10000):\n",
        "      test[i, j] = polynomial_kernel(x_test[i], x_train[j],2)"
      ],
      "metadata": {
        "id": "OfP0r14kzcZh"
      },
      "execution_count": null,
      "outputs": []
    },
    {
      "cell_type": "code",
      "source": [
        "y_pred = [svm.predict(x) for x in K]\n",
        "print(accuracy_score(y_train[:10000],y_pred))"
      ],
      "metadata": {
        "colab": {
          "base_uri": "https://localhost:8080/"
        },
        "id": "2lVPQZMmznmo",
        "outputId": "a1300ce3-b5cc-4e69-9553-466f6659018a"
      },
      "execution_count": null,
      "outputs": [
        {
          "output_type": "stream",
          "name": "stdout",
          "text": [
            "0.9295\n"
          ]
        }
      ]
    },
    {
      "cell_type": "code",
      "source": [
        "y_pred = [svm.predict(x) for x in test]\n",
        "print(accuracy_score(y_test,y_pred))"
      ],
      "metadata": {
        "colab": {
          "base_uri": "https://localhost:8080/"
        },
        "id": "cT5VCtlkzr5r",
        "outputId": "24cde23f-fd0b-49dd-dfb2-141ec96c86e2"
      },
      "execution_count": null,
      "outputs": [
        {
          "output_type": "stream",
          "name": "stdout",
          "text": [
            "0.9228\n"
          ]
        }
      ]
    },
    {
      "cell_type": "markdown",
      "source": [
        "Τελικά ήταν καλύτερος με 2ου βαθμού πολυωνυμικό kernel 92.28% (πιθανών να συνέχιζε την άνοδο με περισσότερα δεδομένα"
      ],
      "metadata": {
        "id": "62Tk5ze67TDk"
      }
    },
    {
      "cell_type": "markdown",
      "source": [
        "**Gaussian kernel** με βάση τον τύπο **k(x, x') = exp(-gamma * ||x - x'||^2)**\n",
        "ώς gamma δίνω τιμή 0.01 αφού πρίν δούλεψε"
      ],
      "metadata": {
        "id": "6uV9a3vYF780"
      }
    },
    {
      "cell_type": "code",
      "source": [
        "def gaussian_kernel(a,b,gamma=0.01):\n",
        "  return np.exp(-gamma*(np.linalg.norm(a-b))**2)"
      ],
      "metadata": {
        "id": "mWu2R3kfF8co"
      },
      "execution_count": null,
      "outputs": []
    },
    {
      "cell_type": "markdown",
      "source": [
        "Αρχικά τρέχω για μόνο 1000 δείγματα"
      ],
      "metadata": {
        "id": "jl7oIjwV9tTT"
      }
    },
    {
      "cell_type": "code",
      "source": [
        "x_train=x_train[:1000]\n",
        "y_train=y_train[:1000]\n",
        "K = np.zeros((1000, 1000))\n",
        "for i in range(1000):\n",
        "    for j in range(1000):\n",
        "        K[i, j] = gaussian_kernel(x_train[i], x_train[j]) # η ομοιότητα κάθε δείγματος με κάθε αλλο\n",
        "s=SVM()\n",
        "s.fit(K,y_train)"
      ],
      "metadata": {
        "colab": {
          "base_uri": "https://localhost:8080/"
        },
        "id": "yqa_jNNILMiL",
        "outputId": "57bb8152-e443-4a88-dcc4-864d1c8d1edb"
      },
      "execution_count": null,
      "outputs": [
        {
          "output_type": "stream",
          "name": "stderr",
          "text": [
            "100%|██████████| 1000/1000 [00:16<00:00, 59.12it/s]\n"
          ]
        }
      ]
    },
    {
      "cell_type": "code",
      "source": [
        "test=np.zeros((10000,1000))\n",
        "\n",
        "for i in range(10000):\n",
        "  for j in range(1000):\n",
        "      test[i, j] = gaussian_kernel(x_test[i], x_train[j])"
      ],
      "metadata": {
        "id": "4EIZIk2gLcfC"
      },
      "execution_count": null,
      "outputs": []
    },
    {
      "cell_type": "code",
      "source": [
        "y_pred = [s.predict(x) for x in K]\n",
        "print(accuracy_score(y_train[:1000],y_pred))"
      ],
      "metadata": {
        "colab": {
          "base_uri": "https://localhost:8080/"
        },
        "id": "WxervAP8Vitd",
        "outputId": "714da6dd-bddf-4c59-ad84-01caa324f314"
      },
      "execution_count": null,
      "outputs": [
        {
          "output_type": "stream",
          "name": "stdout",
          "text": [
            "0.883\n"
          ]
        }
      ]
    },
    {
      "cell_type": "code",
      "source": [
        "y_pred = [s.predict(x) for x in test]\n",
        "print(accuracy_score(y_test,y_pred))"
      ],
      "metadata": {
        "colab": {
          "base_uri": "https://localhost:8080/"
        },
        "id": "6lbjr2Q7LixS",
        "outputId": "7db36689-f5b1-412d-ccab-0d7282cd914f"
      },
      "execution_count": null,
      "outputs": [
        {
          "output_type": "stream",
          "name": "stdout",
          "text": [
            "0.8448\n"
          ]
        }
      ]
    },
    {
      "cell_type": "markdown",
      "source": [
        "88.3% στο train και 84.48% στο test , πιθανών να έχουμε overfitting."
      ],
      "metadata": {
        "id": "2FUbJm2m92Dx"
      }
    },
    {
      "cell_type": "markdown",
      "source": [
        "Δοκιμή με 20000 δείγματα"
      ],
      "metadata": {
        "id": "44u64Rb0QVsP"
      }
    },
    {
      "cell_type": "code",
      "source": [
        "K = np.zeros((20000, 20000))\n",
        "for i in range(20000):\n",
        "    for j in range(20000):\n",
        "        K[i, j] = gaussian_kernel(x_train[i], x_train[j])\n",
        "svm=SVM()\n",
        "svm.fit(K,y_train)"
      ],
      "metadata": {
        "colab": {
          "base_uri": "https://localhost:8080/"
        },
        "id": "x93B_p8yQU2F",
        "outputId": "ecd4f26a-629f-4335-d8a3-51b6c6d0d39a"
      },
      "execution_count": null,
      "outputs": [
        {
          "output_type": "stream",
          "name": "stderr",
          "text": [
            "100%|██████████| 1000/1000 [16:24<00:00,  1.02it/s]\n"
          ]
        }
      ]
    },
    {
      "cell_type": "code",
      "source": [
        "test=np.zeros((10000,20000))\n",
        "\n",
        "for i in range(10000):\n",
        "  for j in range(20000):\n",
        "      test[i, j] = gaussian_kernel(x_test[i], x_train[j])"
      ],
      "metadata": {
        "id": "ACOSSDpfQbWJ"
      },
      "execution_count": null,
      "outputs": []
    },
    {
      "cell_type": "code",
      "source": [
        "y_pred = [svm.predict(x) for x in K]\n",
        "print(accuracy_score(y_train[:20000],y_pred))"
      ],
      "metadata": {
        "colab": {
          "base_uri": "https://localhost:8080/"
        },
        "id": "sgJNSg7OQikl",
        "outputId": "b7cbedfc-1a35-42c6-99ac-4f08a0369a9c"
      },
      "execution_count": null,
      "outputs": [
        {
          "output_type": "stream",
          "name": "stdout",
          "text": [
            "0.8826\n"
          ]
        }
      ]
    },
    {
      "cell_type": "code",
      "source": [
        "y_pred = [svm.predict(x) for x in test]\n",
        "print(accuracy_score(y_test,y_pred))"
      ],
      "metadata": {
        "colab": {
          "base_uri": "https://localhost:8080/"
        },
        "id": "j065kzqVQoik",
        "outputId": "f5f2c038-f5ea-4807-9ae3-a43aa36cf973"
      },
      "execution_count": null,
      "outputs": [
        {
          "output_type": "stream",
          "name": "stdout",
          "text": [
            "0.8921\n"
          ]
        }
      ]
    },
    {
      "cell_type": "markdown",
      "source": [
        "88.26% στο train και 89.21% στο test"
      ],
      "metadata": {
        "id": "tbBlZyA5-LPZ"
      }
    },
    {
      "cell_type": "code",
      "source": [
        "K = np.zeros((25000, 25000))\n",
        "for i in tqdm(range(25000)):\n",
        "    for j in range(25000):\n",
        "        K[i, j] = gaussian_kernel(x_train[i], x_train[j])\n",
        "svm=SVM()\n",
        "svm.fit(K,y_train)"
      ],
      "metadata": {
        "colab": {
          "base_uri": "https://localhost:8080/"
        },
        "id": "-2521aTZ_bVB",
        "outputId": "9f95808e-e880-4e74-e195-2bcf5b064d51"
      },
      "execution_count": null,
      "outputs": [
        {
          "output_type": "stream",
          "name": "stderr",
          "text": [
            "100%|██████████| 25000/25000 [2:33:54<00:00,  2.71it/s]\n",
            "100%|██████████| 1000/1000 [36:26<00:00,  2.19s/it]\n"
          ]
        }
      ]
    },
    {
      "cell_type": "markdown",
      "source": [
        "2 ώρες και 33 λεπτά μόνο για τον υπολογισμό του kernel"
      ],
      "metadata": {
        "id": "knIK8n9VcYy-"
      }
    },
    {
      "cell_type": "code",
      "source": [
        "test=np.zeros((10000,25000))\n",
        "\n",
        "for i in tqdm(range(10000)):\n",
        "  for j in range(25000):\n",
        "      test[i, j] = gaussian_kernel(x_test[i], x_train[j])"
      ],
      "metadata": {
        "colab": {
          "base_uri": "https://localhost:8080/"
        },
        "id": "J0CsC50HAH62",
        "outputId": "080faa47-5449-4ef1-c4d2-64fedff4d696"
      },
      "execution_count": null,
      "outputs": [
        {
          "output_type": "stream",
          "name": "stderr",
          "text": [
            "100%|██████████| 10000/10000 [1:01:34<00:00,  2.71it/s]\n"
          ]
        }
      ]
    },
    {
      "cell_type": "code",
      "source": [
        "y_pred = [svm.predict(x) for x in K]\n",
        "print(accuracy_score(y_train[:25000],y_pred))"
      ],
      "metadata": {
        "colab": {
          "base_uri": "https://localhost:8080/"
        },
        "id": "I_pLdPASAN9v",
        "outputId": "ae413eff-dc16-427c-c808-0786bc627978"
      },
      "execution_count": null,
      "outputs": [
        {
          "output_type": "stream",
          "name": "stdout",
          "text": [
            "0.78196\n"
          ]
        }
      ]
    },
    {
      "cell_type": "code",
      "source": [
        "y_pred = [svm.predict(x) for x in test]\n",
        "print(accuracy_score(y_test,y_pred))"
      ],
      "metadata": {
        "colab": {
          "base_uri": "https://localhost:8080/"
        },
        "id": "VibI6wyVATCf",
        "outputId": "c3bb2cbe-cc22-4e25-c042-144d2b301270"
      },
      "execution_count": null,
      "outputs": [
        {
          "output_type": "stream",
          "name": "stdout",
          "text": [
            "0.7831\n"
          ]
        }
      ]
    },
    {
      "cell_type": "markdown",
      "source": [
        "**ΣΧΟΛΙΑ - ΓΕΝΙΚΕΣ ΠΑΡΑΤΗΡΗΣΕΙΣ**\n",
        "\n",
        "Αρχικά έχουμε τον from scratch svm χωρίς kernel , ο οποίος τα πήγαινε καλά με λίγα δεδομένα στο train set (1000) , αλλά όσο περισσότερα έπερνα τόσο χειρότερα τα πήγαινε στο test . Έπειτα συνέχισα , δοκιμάζοντας τους έτοιμους svm για να δώ ποιός kernel τα πηγαίνει καλύτερα για να προσπαθήσω να τον δοκιμάσω στο δικό μου μοντέλο . Παρατήρησα ότι ο linear kernel έπιασε 90% αλλά ο πολυωνυμικός έφτασε το 99% κατευθείαν επομένως δεν έμεινα πολύ στον γραμμικό . Έπειτα δοκίμασα τον rbf όπου μετά απο αρκετές αποτυχυμένες αρχικοποιήσεις τελικά κατάφερα να φτάσω το 98.5% . Αυτό που παρατήρησα στον rbf kernel  ήταν ότι χρειάζοταν σχετικά μεγάλο C (>2) και αρκετά μικρότερο gamma (< 0.1) . Σε αυτό το σημείο ήταν σίγουρο πως άξιζε να χρησιμοποιήσω πολυωνυμικό αλλά και rbf kernel . Αρχικά δοκίμασα τον πολυωνυμικό σε 1000 δείγματα οι 2ου και 4ου βαθμού έφταναν μέχρι 85% ενώ ο 5ου βαθμού έφτασε 94% ! Αυτό με έκανε να πιστεύω πως θα τα πήγαινε ακόμη καλύτερα με μεγαλύτερο trainset . **ΣΗΜΕΙΩΣΗ** με οποιοδήποτε πλήθος μεγαλύτερο των 30000 στοιχείων δεν έφτανε η μνήμη . Επομένως δοκίμασα με 20000 στοιχεία όμως κατέληξα και πάλι σε χειρότερο αποτέλεσμα 81% . Επομένως ξανα έτρεξα 2ου βαθμού και πήρα 92% με 10000 στοιχεία.\n",
        "Ο gaussian kernel μου με 1000 στοιχεία έφτασε 84% ενώ με 20000 89% ενώ με 25000 να έπεσε στο 78%.\n",
        "\n",
        "Τελικό συμπέρασμα , ο πολυωνυμικός μου kernel έχει την καλύτερη συμπεριφορά , ο 5ου βαθμού φτάνει στο 94% με μόλις 1000 στοιχεία train ενώ ο 2ου βαθμού έχει ανοδική πορεία με ακρίβεια 92% με 10000 στοιχεία . Πιθανόν να έχω κάνει κάτι λάθος με τον rbf καθώς τα αποτελέσματα δεν ήταν τα αναμενώμενα ."
      ],
      "metadata": {
        "id": "2feXXZHsNaoT"
      }
    },
    {
      "cell_type": "code",
      "source": [
        "import numpy as np\n",
        "from sklearn.svm import SVC\n",
        "import matplotlib.pyplot as plt\n",
        "\n",
        "# Δεδομένα πωλήσεων\n",
        "am = 8722\n",
        "sales_data = np.array([[2, am % 20],\n",
        "                       [4, am % 25],\n",
        "                       [10, am % 40],\n",
        "                       [18, am % 50],\n",
        "                       [3, am % 12],\n",
        "                       [9, am % 20],\n",
        "                       [7, am % 19]])\n",
        "\n",
        "# Ομαδοποίηση σύμφωνα με το (AM mod 4) + 1\n",
        "labels = np.array([1, 1, 1, 1, -1, -1, -1])\n",
        "\n",
        "# Δημιουργία μοντέλου πολυωνυμικού SVM\n",
        "poly_svm = SVC(kernel='poly', degree=2, coef0=1, gamma=1)\n",
        "\n",
        "# Προσαρμογή του μοντέλου στα δεδομένα\n",
        "poly_svm.fit(sales_data, labels)\n",
        "\n",
        "# Προβλέψεις για τα ίδια δεδομένα\n",
        "predictions = poly_svm.predict(sales_data)\n",
        "\n",
        "# Εκτύπωση των προβλέψεων\n",
        "print(\"Predictions:\", predictions)\n",
        "\n",
        "# Εκτύπωση του ακριβούς μοντέλου SVM\n",
        "print(\"Support Vectors:\", poly_svm.support_vectors_)\n",
        "print(\"Weights:\", poly_svm.class_weight_)\n",
        "print(\"Bias:\", poly_svm.intercept_)\n",
        "\n",
        "# Απεικόνιση των δεδομένων και των διαχωριστικών επιφανειών\n",
        "plt.scatter(sales_data[:, 0], sales_data[:, 1], c=labels, cmap=plt.cm.Paired, edgecolors='k')\n",
        "\n",
        "# Δημιουργία πλέγματος για την απεικόνιση του διαχωριστικού υπερεπιπέδου\n",
        "ax = plt.gca()\n",
        "xlim = ax.get_xlim()\n",
        "ylim = ax.get_ylim()\n",
        "\n",
        "# Δημιουργία πλέγματος σημείων για τον υπολογισμό των προβλέψεων\n",
        "xx, yy = np.meshgrid(np.linspace(xlim[0], xlim[1], 50), np.linspace(ylim[0], ylim[1], 50))\n",
        "Z = poly_svm.decision_function(np.c_[xx.ravel(), yy.ravel()])\n",
        "\n",
        "# Εμφάνιση των διαχωριστικών επιφανειών και των περιθωρίων\n",
        "Z = Z.reshape(xx.shape)\n",
        "plt.contour(xx, yy, Z, colors='k', levels=[-1, 0, 1], alpha=0.5, linestyles=['--', '-', '--'])\n",
        "plt.scatter(poly_svm.support_vectors_[:, 0], poly_svm.support_vectors_[:, 1], s=100, facecolors='none', edgecolors='k')\n",
        "\n",
        "plt.title('Polynomial SVM')\n",
        "plt.xlabel('Sales (AM mod 20)')\n",
        "plt.ylabel('Profit (AM mod 25)')\n",
        "plt.show()\n"
      ],
      "metadata": {
        "colab": {
          "base_uri": "https://localhost:8080/",
          "height": 646
        },
        "id": "oLnbkdic7RbN",
        "outputId": "7306ebf9-0f35-4acd-9196-ac57e84de43f"
      },
      "execution_count": null,
      "outputs": [
        {
          "output_type": "stream",
          "name": "stdout",
          "text": [
            "Predictions: [ 1  1  1  1 -1 -1 -1]\n",
            "Support Vectors: [[ 3. 10.]\n",
            " [ 9.  2.]\n",
            " [ 7.  1.]\n",
            " [ 2.  2.]\n",
            " [ 4. 22.]\n",
            " [10.  2.]\n",
            " [18. 22.]]\n",
            "Weights: [1. 1.]\n",
            "Bias: [4.6964257]\n"
          ]
        },
        {
          "output_type": "display_data",
          "data": {
            "text/plain": [
              "<Figure size 640x480 with 1 Axes>"
            ],
            "image/png": "[encoded data removed]"
          },
          "metadata": {}
        }
      ]
    },
    {
      "cell_type": "markdown",
      "source": [
        "Scratch"
      ],
      "metadata": {
        "id": "8QcKZS8m-0YS"
      }
    },
    {
      "cell_type": "markdown",
      "source": [
        "scratch 2"
      ],
      "metadata": {
        "id": "DmUw1U2EE2fB"
      }
    },
    {
      "cell_type": "code",
      "source": [
        "import numpy as np\n",
        "import matplotlib.pyplot as plt\n",
        "from tqdm import tqdm\n",
        "\n",
        "class SVM:\n",
        "\n",
        "    def __init__(self, learning_rate=0.001, lambda_param=0.01, iterations=1000):\n",
        "        self.learning_rate = learning_rate\n",
        "        self.lambda_param = lambda_param\n",
        "        self.iterations = iterations\n",
        "        self.w = None\n",
        "        self.b = None\n",
        "\n",
        "    def transform_poly(self, X, Y):\n",
        "        return (np.dot(X, Y.T) + 1) ** 2\n",
        "\n",
        "    def fit(self, X, y):\n",
        "        X = self.transform_poly(X,X)\n",
        "        n_samples, n_features = X.shape\n",
        "\n",
        "        # αρχικοποιώ τα βάρη με τυχαίες τιμές και το b=0\n",
        "        self.w = np.random.randn(n_features)*0.01\n",
        "        self.b = 0\n",
        "\n",
        "        for _ in tqdm(range(self.iterations)):\n",
        "            for idx, x_i in enumerate(X):\n",
        "                condition = y[idx] * (np.dot(self.w, x_i) - self.b) >= 1\n",
        "                if condition:\n",
        "                    self.w -= self.learning_rate * (2 * self.lambda_param * self.w)\n",
        "                else:\n",
        "                    self.w -= self.learning_rate * (2 * self.lambda_param * self.w - np.dot(x_i, y[idx]))\n",
        "                    self.b -= self.learning_rate * y[idx]\n",
        "    def predict(self, X):\n",
        "        X = self.transform_poly(X,X)\n",
        "        pred = np.dot(X, self.w) - self.b\n",
        "        return np.sign(pred)\n",
        "\n",
        "# Ορίζουμε τα δεδομένα και τις ετικέτες\n",
        "am = 8722\n",
        "sales_data = np.array([[2, am % 20],\n",
        "                       [4, am % 25],\n",
        "                       [10, am % 40],\n",
        "                       [18, am % 50],\n",
        "                       [3, am % 12],\n",
        "                       [9, am % 20],\n",
        "                       [7, am % 19]])\n",
        "\n",
        "labels = np.array([1, 1, 1, 1, -1, -1, -1])\n",
        "\n",
        "# Δημιουργία και εκπαίδευση του μοντέλου\n",
        "svm = SVM()\n",
        "svm.fit(sales_data, labels)\n",
        "\n",
        "# Προβλέψεις για τα ίδια δεδομένα\n",
        "predictions = svm.predict(sales_data)\n",
        "print(\"Predictions:\", predictions)\n"
      ],
      "metadata": {
        "colab": {
          "base_uri": "https://localhost:8080/"
        },
        "id": "nRkW5N_iVZn8",
        "outputId": "d9b4ab7b-a5d8-440c-fadf-19568b7bdea8"
      },
      "execution_count": null,
      "outputs": [
        {
          "output_type": "stream",
          "name": "stderr",
          "text": [
            "100%|██████████| 1000/1000 [00:00<00:00, 2919.54it/s]"
          ]
        },
        {
          "output_type": "stream",
          "name": "stdout",
          "text": [
            "Predictions: [1. 1. 1. 1. 1. 1. 1.]\n"
          ]
        },
        {
          "output_type": "stream",
          "name": "stderr",
          "text": [
            "\n"
          ]
        }
      ]
    },
    {
      "cell_type": "markdown",
      "source": [
        "test"
      ],
      "metadata": {
        "id": "AT6dLfeHn0Wz"
      }
    },
    {
      "cell_type": "code",
      "source": [
        "import numpy as np\n",
        "\n",
        "class SVM:\n",
        "\n",
        "    def __init__(self, C=1.0, kernel=None):\n",
        "        self.C = C\n",
        "        self.w = 0\n",
        "        self.b = 0\n",
        "        self.kernel = kernel\n",
        "\n",
        "    def transform_poly(self, X, Y=None):\n",
        "      X = (np.dot(X, X.T) + 1) ** 2\n",
        "      if Y.size != 0:\n",
        "            Y = Y.to_numpy()\n",
        "            return X, Y\n",
        "      else:\n",
        "            return X\n",
        "      '''\n",
        "        X['x1^2'] = X['x1'] ** 2\n",
        "        X['x2^2'] = X['x2'] ** 2\n",
        "        X['x1 * x2'] = X['x1'] * X['x2']\n",
        "        X = X.to_numpy()\n",
        "        if Y.size != 0:\n",
        "            Y = Y.to_numpy()\n",
        "            return X, Y\n",
        "        else:\n",
        "            return X\n",
        "        '''\n",
        "\n",
        "    def hingeloss(self, w, b, x, y):\n",
        "        reg = 0.5 * (w * w)\n",
        "\n",
        "        for i in range(x.shape[0]):\n",
        "            opt_term = y[i] * ((np.dot(w, x[i])) + b)\n",
        "            loss = reg + self.C * max(0, 1 - opt_term)\n",
        "        return loss[0][0]\n",
        "\n",
        "    def fit(self, X, Y, batch_size=16, learning_rate=0.001, epochs=10000):\n",
        "\n",
        "        if self.kernel == \"poly\":\n",
        "            print(\"SVM(kernel='poly')\")\n",
        "            X, Y = self.transform_poly(X, Y)\n",
        "        else:\n",
        "            X = X.to_numpy()\n",
        "            Y = Y.to_numpy()\n",
        "\n",
        "        number_of_features = X.shape[1]\n",
        "        number_of_samples = X.shape[0]\n",
        "        c = self.C\n",
        "        ids = np.arange(number_of_samples)\n",
        "        np.random.shuffle(ids)\n",
        "        w = np.zeros((1, number_of_features))\n",
        "        b = 0\n",
        "        losses = []\n",
        "\n",
        "        for i in range(epochs):\n",
        "            l = self.hingeloss(w, b, X, Y)\n",
        "            losses.append(l)\n",
        "\n",
        "            for batch_initial in range(0, number_of_samples, batch_size):\n",
        "                gradw = 0\n",
        "                gradb = 0\n",
        "\n",
        "                for j in range(batch_initial, batch_initial + batch_size):\n",
        "                    if j < number_of_samples:\n",
        "                        x = ids[j]\n",
        "                        ti = Y[x] * (np.dot(w, X[x].T) + b)\n",
        "\n",
        "                        if ti > 1:\n",
        "                            gradw += 0\n",
        "                            gradb += 0\n",
        "                        else:\n",
        "                            gradw += c * Y[x] * X[x]\n",
        "                            gradb += c * Y[x]\n",
        "\n",
        "                w = w - learning_rate * w + learning_rate * gradw\n",
        "                b = b + learning_rate * gradb\n",
        "\n",
        "        self.w = w\n",
        "        self.b = b\n",
        "        return self.w, self.b, losses\n",
        "\n",
        "    def predict(self, X):\n",
        "        if self.kernel == \"poly\":\n",
        "            X = self.transform_poly(X, np.array([]))\n",
        "        else:\n",
        "            X.to_numpy()\n",
        "        linear_prediction = np.dot(X, self.w[0]) + self.b\n",
        "        return np.sign(linear_prediction)\n"
      ],
      "metadata": {
        "id": "ENyyjtIAnz1B"
      },
      "execution_count": null,
      "outputs": []
    },
    {
      "cell_type": "code",
      "source": [
        "import numpy as np\n",
        "import matplotlib.pyplot as plt\n",
        "import pandas as pd\n",
        "from sklearn.datasets import make_circles\n",
        "\n",
        "# Ορίζουμε τα δεδομένα και τις ετικέτες\n",
        "am = 8722\n",
        "sales_data = np.array([[2, am % 20],\n",
        "                       [4, am % 25],\n",
        "                       [10, am % 40],\n",
        "                       [18, am % 50],\n",
        "                       [3, am % 12],\n",
        "                       [9, am % 20],\n",
        "                       [7, am % 19]])\n",
        "\n",
        "labels = np.array([1, 1, 1, 1, -1, -1, -1])\n",
        "\n",
        "df = pd.DataFrame(dict(x1=sales_data[:, 0], x2=sales_data[:, 1], y=labels))\n",
        "\n",
        "colors = {-1:'red', 1:'blue'}\n",
        "fig, ax = plt.subplots()\n",
        "grouped = df.groupby('y')\n",
        "for key, group in grouped:\n",
        "    group.plot(ax=ax, kind='scatter', x='x1', y='x2', label=key, color = colors[key])\n",
        "plt.show()"
      ],
      "metadata": {
        "colab": {
          "base_uri": "https://localhost:8080/",
          "height": 449
        },
        "id": "eMD3FyAQoEmw",
        "outputId": "c590b60b-aa00-48ce-c5c8-1edf9996a232"
      },
      "execution_count": null,
      "outputs": [
        {
          "output_type": "display_data",
          "data": {
            "text/plain": [
              "<Figure size 640x480 with 1 Axes>"
            ],
            "image/png": "[encoded data removed]"
          },
          "metadata": {}
        }
      ]
    },
    {
      "cell_type": "code",
      "source": [
        "from sklearn.metrics import accuracy_score\n",
        "# creating X and y values\n",
        "X = df[['x1', 'x2']]\n",
        "y = df['y']\n",
        "\n",
        "svm = SVM(kernel=\"poly\")\n",
        "\n",
        "w, b, losses = svm.fit(X,y)\n",
        "\n",
        "pred = svm.predict(X)\n",
        "\n",
        "accuracy_score(pred, y)"
      ],
      "metadata": {
        "colab": {
          "base_uri": "https://localhost:8080/"
        },
        "id": "m_APXBuEoonS",
        "outputId": "46fc96cb-b959-45be-d2c3-efe82e7769e4"
      },
      "execution_count": null,
      "outputs": [
        {
          "output_type": "stream",
          "name": "stdout",
          "text": [
            "SVM(kernel='poly')\n"
          ]
        },
        {
          "output_type": "execute_result",
          "data": {
            "text/plain": [
              "0.5714285714285714"
            ]
          },
          "metadata": {},
          "execution_count": 120
        }
      ]
    },
    {
      "cell_type": "code",
      "source": [
        "# Scatter plot for input data points\n",
        "plt.scatter(sales_data[:, 0], sales_data[:, 1], c=labels, cmap=plt.cm.Paired, edgecolors='k', marker='o', label='Actual Labels')\n",
        "\n",
        "# Decision boundary\n",
        "xx, yy = np.meshgrid(np.linspace(sales_data[:, 0].min(), sales_data[:, 0].max(), 50),\n",
        "                     np.linspace(sales_data[:, 1].min(), sales_data[:, 1].max(), 50))\n",
        "\n",
        "mesh_points = np.column_stack((xx.ravel(), yy.ravel()))\n",
        "Z = svm.predict(mesh_points).reshape(xx.shape)  # Make sure your predict function returns the correct shape\n",
        "\n",
        "# Contour plot for decision boundary\n",
        "plt.contour(xx, yy, Z, colors='k', levels=[-1, 0, 1], alpha=0.5, linestyles=['--', '-', '--'])\n",
        "\n",
        "# Εμφάνιση των διανυσμάτων υποστήριξης\n",
        "# Note: Update this part based on how support_vectors are calculated in your SVM class\n",
        "if len(svm.support_vectors) > 0:\n",
        "    plt.scatter(svm.support_vectors[:, 0], svm.support_vectors[:, 1], s=100, facecolors='none', edgecolors='k', label='Support Vectors')\n",
        "\n",
        "plt.title('Polynomial SVM (from scratch)')\n",
        "plt.xlabel('Sales (AM mod 20)')\n",
        "plt.ylabel('Profit (AM mod 25)')\n",
        "\n",
        "plt.legend()\n",
        "plt.show()"
      ],
      "metadata": {
        "colab": {
          "base_uri": "https://localhost:8080/",
          "height": 716
        },
        "id": "LwzjiIrJvk9n",
        "outputId": "64268c62-7cdb-40f6-9499-da0f90c29935"
      },
      "execution_count": null,
      "outputs": [
        {
          "output_type": "error",
          "ename": "ValueError",
          "evalue": "ignored",
          "traceback": [
            "\u001b[0;31m---------------------------------------------------------------------------\u001b[0m",
            "\u001b[0;31mValueError\u001b[0m                                Traceback (most recent call last)",
            "\u001b[0;32m<ipython-input-124-bb99d61a933e>\u001b[0m in \u001b[0;36m<cell line: 9>\u001b[0;34m()\u001b[0m\n\u001b[1;32m      7\u001b[0m \u001b[0;34m\u001b[0m\u001b[0m\n\u001b[1;32m      8\u001b[0m \u001b[0mmesh_points\u001b[0m \u001b[0;34m=\u001b[0m \u001b[0mnp\u001b[0m\u001b[0;34m.\u001b[0m\u001b[0mcolumn_stack\u001b[0m\u001b[0;34m(\u001b[0m\u001b[0;34m(\u001b[0m\u001b[0mxx\u001b[0m\u001b[0;34m.\u001b[0m\u001b[0mravel\u001b[0m\u001b[0;34m(\u001b[0m\u001b[0;34m)\u001b[0m\u001b[0;34m,\u001b[0m \u001b[0myy\u001b[0m\u001b[0;34m.\u001b[0m\u001b[0mravel\u001b[0m\u001b[0;34m(\u001b[0m\u001b[0;34m)\u001b[0m\u001b[0;34m)\u001b[0m\u001b[0;34m)\u001b[0m\u001b[0;34m\u001b[0m\u001b[0;34m\u001b[0m\u001b[0m\n\u001b[0;32m----> 9\u001b[0;31m \u001b[0mZ\u001b[0m \u001b[0;34m=\u001b[0m \u001b[0msvm\u001b[0m\u001b[0;34m.\u001b[0m\u001b[0mpredict\u001b[0m\u001b[0;34m(\u001b[0m\u001b[0mmesh_points\u001b[0m\u001b[0;34m)\u001b[0m\u001b[0;34m.\u001b[0m\u001b[0mreshape\u001b[0m\u001b[0;34m(\u001b[0m\u001b[0mxx\u001b[0m\u001b[0;34m.\u001b[0m\u001b[0mshape\u001b[0m\u001b[0;34m)\u001b[0m  \u001b[0;31m# Make sure your predict function returns the correct shape\u001b[0m\u001b[0;34m\u001b[0m\u001b[0;34m\u001b[0m\u001b[0m\n\u001b[0m\u001b[1;32m     10\u001b[0m \u001b[0;34m\u001b[0m\u001b[0m\n\u001b[1;32m     11\u001b[0m \u001b[0;31m# Contour plot for decision boundary\u001b[0m\u001b[0;34m\u001b[0m\u001b[0;34m\u001b[0m\u001b[0m\n",
            "\u001b[0;32m<ipython-input-119-724136cb5b3f>\u001b[0m in \u001b[0;36mpredict\u001b[0;34m(self, X)\u001b[0m\n\u001b[1;32m     86\u001b[0m         \u001b[0;32melse\u001b[0m\u001b[0;34m:\u001b[0m\u001b[0;34m\u001b[0m\u001b[0;34m\u001b[0m\u001b[0m\n\u001b[1;32m     87\u001b[0m             \u001b[0mX\u001b[0m\u001b[0;34m.\u001b[0m\u001b[0mto_numpy\u001b[0m\u001b[0;34m(\u001b[0m\u001b[0;34m)\u001b[0m\u001b[0;34m\u001b[0m\u001b[0;34m\u001b[0m\u001b[0m\n\u001b[0;32m---> 88\u001b[0;31m         \u001b[0mlinear_prediction\u001b[0m \u001b[0;34m=\u001b[0m \u001b[0mnp\u001b[0m\u001b[0;34m.\u001b[0m\u001b[0mdot\u001b[0m\u001b[0;34m(\u001b[0m\u001b[0mX\u001b[0m\u001b[0;34m,\u001b[0m \u001b[0mself\u001b[0m\u001b[0;34m.\u001b[0m\u001b[0mw\u001b[0m\u001b[0;34m[\u001b[0m\u001b[0;36m0\u001b[0m\u001b[0;34m]\u001b[0m\u001b[0;34m)\u001b[0m \u001b[0;34m+\u001b[0m \u001b[0mself\u001b[0m\u001b[0;34m.\u001b[0m\u001b[0mb\u001b[0m\u001b[0;34m\u001b[0m\u001b[0;34m\u001b[0m\u001b[0m\n\u001b[0m\u001b[1;32m     89\u001b[0m         \u001b[0;32mreturn\u001b[0m \u001b[0mnp\u001b[0m\u001b[0;34m.\u001b[0m\u001b[0msign\u001b[0m\u001b[0;34m(\u001b[0m\u001b[0mlinear_prediction\u001b[0m\u001b[0;34m)\u001b[0m\u001b[0;34m\u001b[0m\u001b[0;34m\u001b[0m\u001b[0m\n",
            "\u001b[0;32m/usr/local/lib/python3.10/dist-packages/numpy/core/overrides.py\u001b[0m in \u001b[0;36mdot\u001b[0;34m(*args, **kwargs)\u001b[0m\n",
            "\u001b[0;31mValueError\u001b[0m: shapes (2500,2500) and (7,) not aligned: 2500 (dim 1) != 7 (dim 0)"
          ]
        },
        {
          "output_type": "display_data",
          "data": {
            "text/plain": [
              "<Figure size 640x480 with 1 Axes>"
            ],
            "image/png": "[encoded data removed]"
          },
          "metadata": {}
        }
      ]
    }
  ]
}